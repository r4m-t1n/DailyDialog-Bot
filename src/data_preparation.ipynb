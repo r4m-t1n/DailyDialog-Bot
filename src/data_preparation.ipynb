{
 "cells": [
  {
   "cell_type": "code",
   "execution_count": 1,
   "id": "4b469d9f-8a35-4266-ad53-42744bae2597",
   "metadata": {},
   "outputs": [],
   "source": [
    "import os\n",
    "import re\n",
    "from collections import Counter\n",
    "import numpy as np\n",
    "import pandas as pd\n",
    "\n",
    "import torch\n",
    "import torch.nn as nn\n",
    "import torch.optim as optim\n",
    "from torch.utils.data import Dataset, DataLoader"
   ]
  },
  {
   "cell_type": "code",
   "execution_count": 2,
   "id": "a497ff99-a276-4776-a78b-ef0f69f34f2d",
   "metadata": {},
   "outputs": [],
   "source": [
    "with open(r\"..\\data\\EMNLP_dataset\\train\\dialogues_train.txt\", \"r\", encoding=\"UTF-8\") as f:\n",
    "    raw_dialog_lines = f.readlines()"
   ]
  },
  {
   "cell_type": "code",
   "execution_count": 3,
   "id": "35a11888-48bd-4232-856e-7167d647ec2e",
   "metadata": {},
   "outputs": [],
   "source": [
    "dialogs = [line.strip().split(\"__eou__\") for line in raw_dialog_lines]\n",
    "dialogs_cleaned = [[utt.strip() for utt in dialog if utt.strip()] for dialog in dialogs]"
   ]
  },
  {
   "cell_type": "code",
   "execution_count": 4,
   "id": "0d40ed6c-4a50-4088-9d63-6526d8740926",
   "metadata": {},
   "outputs": [],
   "source": [
    "def preprocess_text(text):\n",
    "    text = text.lower()\n",
    "    text = re.sub(r\"[^a-zA-Z0-9\\s]\", \"\", text)\n",
    "    text = re.sub(r\"\\s+\", \" \", text).strip()\n",
    "    return text"
   ]
  },
  {
   "cell_type": "code",
   "execution_count": 5,
   "id": "aade4da0-6f4a-4d4a-9c75-841a42ccca35",
   "metadata": {},
   "outputs": [
    {
     "data": {
      "text/html": [
       "<div>\n",
       "<style scoped>\n",
       "    .dataframe tbody tr th:only-of-type {\n",
       "        vertical-align: middle;\n",
       "    }\n",
       "\n",
       "    .dataframe tbody tr th {\n",
       "        vertical-align: top;\n",
       "    }\n",
       "\n",
       "    .dataframe thead th {\n",
       "        text-align: right;\n",
       "    }\n",
       "</style>\n",
       "<table border=\"1\" class=\"dataframe\">\n",
       "  <thead>\n",
       "    <tr style=\"text-align: right;\">\n",
       "      <th></th>\n",
       "      <th>context</th>\n",
       "      <th>response</th>\n",
       "    </tr>\n",
       "  </thead>\n",
       "  <tbody>\n",
       "    <tr>\n",
       "      <th>0</th>\n",
       "      <td>Say , Jim , how about going for a few beers af...</td>\n",
       "      <td>You know that is tempting but is really not go...</td>\n",
       "    </tr>\n",
       "    <tr>\n",
       "      <th>1</th>\n",
       "      <td>Say , Jim , how about going for a few beers af...</td>\n",
       "      <td>What do you mean ? It will help us to relax .</td>\n",
       "    </tr>\n",
       "    <tr>\n",
       "      <th>2</th>\n",
       "      <td>Say , Jim , how about going for a few beers af...</td>\n",
       "      <td>Do you really think so ? I don't . It will jus...</td>\n",
       "    </tr>\n",
       "    <tr>\n",
       "      <th>3</th>\n",
       "      <td>Say , Jim , how about going for a few beers af...</td>\n",
       "      <td>I guess you are right.But what shall we do ? I...</td>\n",
       "    </tr>\n",
       "    <tr>\n",
       "      <th>4</th>\n",
       "      <td>Say , Jim , how about going for a few beers af...</td>\n",
       "      <td>I suggest a walk over to the gym where we can ...</td>\n",
       "    </tr>\n",
       "  </tbody>\n",
       "</table>\n",
       "</div>"
      ],
      "text/plain": [
       "                                             context  \\\n",
       "0  Say , Jim , how about going for a few beers af...   \n",
       "1  Say , Jim , how about going for a few beers af...   \n",
       "2  Say , Jim , how about going for a few beers af...   \n",
       "3  Say , Jim , how about going for a few beers af...   \n",
       "4  Say , Jim , how about going for a few beers af...   \n",
       "\n",
       "                                            response  \n",
       "0  You know that is tempting but is really not go...  \n",
       "1      What do you mean ? It will help us to relax .  \n",
       "2  Do you really think so ? I don't . It will jus...  \n",
       "3  I guess you are right.But what shall we do ? I...  \n",
       "4  I suggest a walk over to the gym where we can ...  "
      ]
     },
     "execution_count": 5,
     "metadata": {},
     "output_type": "execute_result"
    }
   ],
   "source": [
    "pairs = []\n",
    "for dialog in dialogs_cleaned:\n",
    "    for i in range(len(dialog)-1):\n",
    "        context = \" \".join(dialog[:i+1]).strip()\n",
    "        response = dialog[i+1].strip()\n",
    "        if context and response:\n",
    "            pairs.append({\"context\": context, \"response\": response})\n",
    "\n",
    "df_pairs = pd.DataFrame(pairs)\n",
    "df_pairs.head()"
   ]
  },
  {
   "cell_type": "code",
   "execution_count": 6,
   "id": "4fa0fd9a-a6b8-4f85-8dd7-207ec78a80cb",
   "metadata": {},
   "outputs": [],
   "source": [
    "df_pairs[\"context_clean\"] = df_pairs[\"context\"].apply(preprocess_text)\n",
    "df_pairs[\"response_clean\"] = df_pairs[\"response\"].apply(preprocess_text)"
   ]
  },
  {
   "cell_type": "code",
   "execution_count": 7,
   "id": "e5700693-f2b9-4635-a4bb-2682f1cac1d4",
   "metadata": {},
   "outputs": [],
   "source": [
    "df_pairs[\"context_tokens\"] = df_pairs[\"context_clean\"].apply(lambda x: x.split())\n",
    "df_pairs[\"response_tokens\"] = df_pairs[\"response_clean\"].apply(lambda x: x.split())"
   ]
  },
  {
   "cell_type": "code",
   "execution_count": 8,
   "id": "7d510b7d-2e59-4ab2-999f-bcbd1f236a5c",
   "metadata": {},
   "outputs": [],
   "source": [
    "all_tokens = []\n",
    "for tokens in df_pairs[\"context_tokens\"]:\n",
    "    all_tokens.extend(tokens)\n",
    "for tokens in df_pairs[\"response_tokens\"]:\n",
    "    all_tokens.extend(tokens)\n",
    "\n",
    "word_counts = Counter(all_tokens)\n",
    "vocab = {word: i+2 for i, (word, _) in enumerate(word_counts.most_common())}\n",
    "vocab[\"<PAD>\"] = 0\n",
    "vocab[\"<UNK>\"] = 1"
   ]
  },
  {
   "cell_type": "code",
   "execution_count": 9,
   "id": "c201e435-b010-4f03-bef0-1c1fde8eb180",
   "metadata": {},
   "outputs": [],
   "source": [
    "def tokens_to_indices(tokens, vocab):\n",
    "    return [vocab.get(token, vocab[\"<UNK>\"]) for token in tokens]\n",
    "\n",
    "df_pairs[\"context_idx\"] = df_pairs[\"context_tokens\"].apply(lambda x: tokens_to_indices(x, vocab))\n",
    "df_pairs[\"response_idx\"] = df_pairs[\"response_tokens\"].apply(lambda x: tokens_to_indices(x, vocab))"
   ]
  },
  {
   "cell_type": "code",
   "execution_count": 10,
   "id": "4316213d-dd8b-48fc-b558-2ccf89abfd4f",
   "metadata": {},
   "outputs": [],
   "source": [
    "def pad_seq(seq, max_len, pad_value=0):\n",
    "    if len(seq) < max_len:\n",
    "        seq = seq + [pad_value] * (max_len - len(seq))\n",
    "    else:\n",
    "        seq = seq[:max_len]\n",
    "    return seq\n",
    "\n",
    "max_len_context = 40\n",
    "max_len_response = 40\n",
    "\n",
    "df_pairs[\"context_idx_padded\"] = df_pairs[\"context_idx\"].apply(lambda x: pad_seq(x, max_len_context))\n",
    "df_pairs[\"response_idx_padded\"] = df_pairs[\"response_idx\"].apply(lambda x: pad_seq(x, max_len_response))"
   ]
  },
  {
   "cell_type": "code",
   "execution_count": 11,
   "id": "4b5aa625-0143-46c5-b1a2-95ca356f62e1",
   "metadata": {},
   "outputs": [],
   "source": [
    "class Seq2SeqDataset(Dataset):\n",
    "    def __init__(self, df):\n",
    "        self.contexts = df[\"context_idx_padded\"].tolist()\n",
    "        self.responses = df[\"response_idx_padded\"].tolist()\n",
    "\n",
    "    def __len__(self):\n",
    "        return len(self.contexts)\n",
    "\n",
    "    def __getitem__(self, idx):\n",
    "        context = torch.tensor(self.contexts[idx], dtype=torch.long)\n",
    "        response = torch.tensor(self.responses[idx], dtype=torch.long)\n",
    "        return context, response"
   ]
  },
  {
   "cell_type": "code",
   "execution_count": 12,
   "id": "f7feb5c4-2849-446d-ae80-6d40378e7fb4",
   "metadata": {},
   "outputs": [],
   "source": [
    "dataset = Seq2SeqDataset(df_pairs)\n",
    "dataloader = DataLoader(dataset, batch_size=32, shuffle=True)"
   ]
  },
  {
   "cell_type": "code",
   "execution_count": 13,
   "id": "9a10f21f-bc4f-4bf2-a2d2-f905ca7d1e5c",
   "metadata": {},
   "outputs": [
    {
     "data": {
      "text/plain": [
       "(76053,\n",
       " (tensor([ 153,  878,   28,   31,   66,   13,    6,  183, 3257,  180,  273,    0,\n",
       "             0,    0,    0,    0,    0,    0,    0,    0,    0,    0,    0,    0,\n",
       "             0,    0,    0,    0,    0,    0,    0,    0,    0,    0,    0,    0,\n",
       "             0,    0,    0,    0]),\n",
       "  tensor([   2,   41,   14,    8, 3919,   27,    8,   52,   42,   39,   13,   70,\n",
       "          1676,    0,    0,    0,    0,    0,    0,    0,    0,    0,    0,    0,\n",
       "             0,    0,    0,    0,    0,    0,    0,    0,    0,    0,    0,    0,\n",
       "             0,    0,    0,    0])))"
      ]
     },
     "execution_count": 13,
     "metadata": {},
     "output_type": "execute_result"
    }
   ],
   "source": [
    "len(dataset), dataset[0]"
   ]
  }
 ],
 "metadata": {
  "kernelspec": {
   "display_name": "Python 3 (ipykernel)",
   "language": "python",
   "name": "python3"
  },
  "language_info": {
   "codemirror_mode": {
    "name": "ipython",
    "version": 3
   },
   "file_extension": ".py",
   "mimetype": "text/x-python",
   "name": "python",
   "nbconvert_exporter": "python",
   "pygments_lexer": "ipython3",
   "version": "3.10.5"
  }
 },
 "nbformat": 4,
 "nbformat_minor": 5
}
